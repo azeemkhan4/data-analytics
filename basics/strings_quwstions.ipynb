{
 "cells": [
  {
   "cell_type": "markdown",
   "metadata": {},
   "source": [
    "# Question\n",
    "-Remove all the vowels from the string the is provided by the user\n",
    "-Count all the vowels from the string the is provided by the user\n",
    "-Count all the word occurences in the string that is provided by the user\n",
    "-Find all the indexes of a word in the string\n",
    "-remove every occurence of a words in  a string\n",
    "-remove all the spaces from the string"
   ]
  },
  {
   "cell_type": "code",
   "execution_count": 1,
   "metadata": {},
   "outputs": [
    {
     "name": "stdout",
     "output_type": "stream",
     "text": [
      "djj\n"
     ]
    }
   ],
   "source": [
    "# removing all the vowels\n",
    "msg=input(\"enter your message:\")\n",
    "for v in 'aieouAIEOU':\n",
    "    msg=msg.replace(v,'')\n",
    "print(msg)"
   ]
  },
  {
   "cell_type": "code",
   "execution_count": 4,
   "metadata": {},
   "outputs": [
    {
     "name": "stdout",
     "output_type": "stream",
     "text": [
      "this is me\n",
      "3\n"
     ]
    }
   ],
   "source": [
    "#count all vowels\n",
    "count=0\n",
    "msg=input(\"enter your message\")\n",
    "print(msg)\n",
    "for v in msg:                          \n",
    "    if v in 'aieouAIEOU':\n",
    "        count+=1\n",
    "print(count)"
   ]
  },
  {
   "cell_type": "code",
   "execution_count": 11,
   "metadata": {},
   "outputs": [
    {
     "name": "stdout",
     "output_type": "stream",
     "text": [
      "{'that', 'this'}\n",
      "that => 3\n",
      "this => 4\n"
     ]
    }
   ],
   "source": [
    "#Count all the word occurences in the string that is provided by the user\n",
    "msg=input(\"enter something\")\n",
    "words=set(msg.split())\n",
    "print(words)\n",
    "for w in words:\n",
    "    c=msg.count(w)\n",
    "    print(w,'=>',c)"
   ]
  },
  {
   "cell_type": "code",
   "execution_count": 12,
   "metadata": {},
   "outputs": [
    {
     "name": "stdout",
     "output_type": "stream",
     "text": [
      "is found at position2\n",
      "is found at position5\n",
      "is found at position39\n",
      "is found at position48\n",
      "is found at position72\n",
      "is found at position97\n"
     ]
    }
   ],
   "source": [
    "# find indexes\n",
    "story='''This is an example of another story,\n",
    "this story is not quite simple and is not very long,\n",
    "but it is a story'''\n",
    "q=input(\"Enter the search term\")\n",
    "start=0\n",
    "while True:\n",
    "    idx=story.find(q,start)\n",
    "    if idx== -1:\n",
    "        break\n",
    "    print(f'{q} found at position{idx}')\n",
    "    start=idx+1"
   ]
  },
  {
   "cell_type": "code",
   "execution_count": 13,
   "metadata": {},
   "outputs": [
    {
     "name": "stdout",
     "output_type": "stream",
     "text": [
      "Th3s 3s 1n 2x1mpl2 4f 1n4th2r st4ry,\n",
      "th3s st4ry 3s n4t q53t2 s3mpl2 1nd 3s n4t v2ry l4ng,\n",
      "b5t 3t 3s 1 st4ry\n"
     ]
    }
   ],
   "source": [
    "#reaplace the vowels with numbers\n",
    "story='''This is an example of another story,\n",
    "this story is not quite simple and is not very long,\n",
    "but it is a story'''\n",
    "for v in 'aieouAIEOU':\n",
    "    if v=='a' or v=='A':\n",
    "        story=story.replace(v,'1')\n",
    "    if v=='e' or v=='E':\n",
    "        story=story.replace(v,'2')\n",
    "    if v=='i' or v=='I':\n",
    "        story=story.replace(v,'3')\n",
    "    if v=='o' or v=='O':\n",
    "        story=story.replace(v,'4')\n",
    "    if v=='u' or v=='U':\n",
    "        story=story.replace(v,'5')\n",
    "print(story)\n",
    "        "
   ]
  },
  {
   "cell_type": "code",
   "execution_count": 18,
   "metadata": {},
   "outputs": [
    {
     "name": "stdout",
     "output_type": "stream",
     "text": [
      "Thisisanexampleofanotherstory,\n",
      "thisstoryisnotquitesimpleandisnotverylong,\n",
      "butitisastory\n"
     ]
    }
   ],
   "source": [
    "#remove all the spaces from the string\n",
    "story='''This is an example of another story,\n",
    "this story is not quite simple and is not very long,\n",
    "but it is a story'''\n",
    "for v in story:\n",
    "    if v==' ':\n",
    "        story=story.replace(v,'')\n",
    "print(story)\n"
   ]
  },
  {
   "cell_type": "code",
   "execution_count": 5,
   "metadata": {},
   "outputs": [
    {
     "name": "stdout",
     "output_type": "stream",
     "text": [
      "This is an example of another ,\n",
      "this  is not quite simple and is not very long,\n",
      "but it is a \n"
     ]
    }
   ],
   "source": [
    "#removing every occurence of a words in  a string\n",
    "story='''This is an example of another story,\n",
    "this story is not quite simple and is not very long,\n",
    "but it is a story'''\n",
    "q=input(\"Enter the search term\")\n",
    "start=0\n",
    "while True:\n",
    "    idx=story.find(q,start)\n",
    "    if idx== -1:\n",
    "        break\n",
    "    story=story.replace(q,'')\n",
    "    start=idx+1\n",
    "print(story)"
   ]
  },
  {
   "cell_type": "code",
   "execution_count": null,
   "metadata": {},
   "outputs": [],
   "source": []
  }
 ],
 "metadata": {
  "kernelspec": {
   "display_name": "Python 3.9.12 ('base')",
   "language": "python",
   "name": "python3"
  },
  "language_info": {
   "codemirror_mode": {
    "name": "ipython",
    "version": 3
   },
   "file_extension": ".py",
   "mimetype": "text/x-python",
   "name": "python",
   "nbconvert_exporter": "python",
   "pygments_lexer": "ipython3",
   "version": "3.9.12"
  },
  "orig_nbformat": 4,
  "vscode": {
   "interpreter": {
    "hash": "1f385c6bfe582f67d8e85aa22970f5f23abf8481d1353fa3a615df0d0c0a4445"
   }
  }
 },
 "nbformat": 4,
 "nbformat_minor": 2
}
