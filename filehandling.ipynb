{
 "cells": [
  {
   "cell_type": "markdown",
   "metadata": {},
   "source": [
    "# file handling"
   ]
  },
  {
   "cell_type": "markdown",
   "metadata": {},
   "source": [
    "- reading a file"
   ]
  },
  {
   "cell_type": "code",
   "execution_count": 13,
   "metadata": {},
   "outputs": [],
   "source": [
    "f=open(r'D:\\data analytics\\TURTLE\\example3.py') # load file into a variable\n",
    "content=f.read()   #read the file\n",
    "f.close()   # close the file"
   ]
  },
  {
   "cell_type": "code",
   "execution_count": 14,
   "metadata": {},
   "outputs": [
    {
     "name": "stdout",
     "output_type": "stream",
     "text": [
      "from turtle import*\n",
      "s=getscreen()\n",
      "t=Turtle()\n",
      "for i in range(5):\n",
      "    t.fd(100)\n",
      "    t.lt(72)\n",
      "mainloop()\n"
     ]
    }
   ],
   "source": [
    "print(content)"
   ]
  },
  {
   "cell_type": "code",
   "execution_count": 16,
   "metadata": {},
   "outputs": [
    {
     "name": "stdout",
     "output_type": "stream",
     "text": [
      "from turtle import*\n",
      "s=getscreen()\n",
      "t=Turtle()\n",
      "for i in range(5):\n",
      "    t.fd(100)\n",
      "    t.lt(72)\n",
      "mainloop()\n"
     ]
    }
   ],
   "source": [
    "with open(r'D:\\data analytics\\TURTLE\\example3.py') as file:\n",
    "    print(file.read())    #isme f.close() nhi use krna padta"
   ]
  },
  {
   "cell_type": "markdown",
   "metadata": {},
   "source": [
    "- reading binary files"
   ]
  },
  {
   "cell_type": "code",
   "execution_count": null,
   "metadata": {},
   "outputs": [],
   "source": [
    "f2=open(r'C:\\Users\\CS1000TX\\Desktop\\wallpaper\\pexels-eberhard-grossgasteiger-640838.jpg','rb')\n",
    "print(f2.read())\n",
    "f2.close()"
   ]
  },
  {
   "cell_type": "markdown",
   "metadata": {},
   "source": [
    "# writing content in a file"
   ]
  },
  {
   "cell_type": "code",
   "execution_count": 17,
   "metadata": {},
   "outputs": [],
   "source": [
    "kahani=\"Once upon a time , there was a planet which was green, and blue , and the end\"\n",
    "file=open('kahani1.txt','w')\n",
    "file.write(kahani)\n",
    "file.close()   #saves the file when u make changes"
   ]
  },
  {
   "cell_type": "code",
   "execution_count": 18,
   "metadata": {},
   "outputs": [],
   "source": [
    "info=input('enter the info')\n",
    "with open('info.txt','w') as f:   # w for write\n",
    "    f.write(info)\n",
    "    f.write('\\n')\n",
    "    f.write('author\\n')\n",
    "    f.write('Zaid kamil')"
   ]
  },
  {
   "cell_type": "markdown",
   "metadata": {},
   "source": [
    "- ADDING CONTENT TO  A FILE\n"
   ]
  },
  {
   "cell_type": "code",
   "execution_count": 20,
   "metadata": {},
   "outputs": [],
   "source": [
    "data=input(\"enter thye content\")\n",
    "with open('kahani1.txt','a') as f:  # for append\n",
    "    f.write(\"\\n\"+data)\n"
   ]
  },
  {
   "cell_type": "code",
   "execution_count": null,
   "metadata": {},
   "outputs": [],
   "source": []
  }
 ],
 "metadata": {
  "kernelspec": {
   "display_name": "Python 3.9.12 ('base')",
   "language": "python",
   "name": "python3"
  },
  "language_info": {
   "codemirror_mode": {
    "name": "ipython",
    "version": 3
   },
   "file_extension": ".py",
   "mimetype": "text/x-python",
   "name": "python",
   "nbconvert_exporter": "python",
   "pygments_lexer": "ipython3",
   "version": "3.9.12"
  },
  "orig_nbformat": 4,
  "vscode": {
   "interpreter": {
    "hash": "1f385c6bfe582f67d8e85aa22970f5f23abf8481d1353fa3a615df0d0c0a4445"
   }
  }
 },
 "nbformat": 4,
 "nbformat_minor": 2
}
